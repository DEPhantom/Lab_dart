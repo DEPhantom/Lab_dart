{
 "cells": [
  {
   "cell_type": "code",
   "execution_count": 5,
   "id": "ae8a50cf",
   "metadata": {},
   "outputs": [],
   "source": [
    "import tensorflow as tf\n",
    "import numpy as np"
   ]
  },
  {
   "cell_type": "code",
   "execution_count": 6,
   "id": "93829149",
   "metadata": {},
   "outputs": [],
   "source": [
    "#Hyperparameter\n",
    "learning_rate = 0.001\n",
    "training_epochs = 10\n",
    "batch_size = 100"
   ]
  },
  {
   "cell_type": "code",
   "execution_count": 7,
   "id": "613bdc02",
   "metadata": {},
   "outputs": [],
   "source": [
    "#dataset processing\n",
    "mnist = tf.keras.datasets.mnist\n",
    "(x_train, y_train), (x_test, y_test) = mnist.load_data()\n",
    "#data normalization\n",
    "x_train, x_test = x_train/ 255.0, x_test/ 255.0\n",
    "\n",
    "x_train = x_train[..., tf.newaxis]\n",
    "x_test = x_test[..., tf.newaxis]\n",
    "\n",
    "y_train = tf.keras.utils.to_categorical(y_train, 10)\n",
    "y_test = tf.keras.utils.to_categorical(y_test, 10)\n",
    "\n",
    "# Build dataset pipeline\n",
    "train_ds = tf.data.Dataset.from_tensor_slices((x_train, y_train)).shuffle(buffer_size=100000).batch(batch_size)\n",
    "test_ds = tf.data.Dataset.from_tensor_slices((x_test, y_test)).batch(batch_size)"
   ]
  },
  {
   "cell_type": "code",
   "execution_count": 8,
   "id": "1abd8261",
   "metadata": {},
   "outputs": [
    {
     "name": "stdout",
     "output_type": "stream",
     "text": [
      "Model: \"mn__model_2\"\n",
      "_________________________________________________________________\n",
      "Layer (type)                 Output Shape              Param #   \n",
      "=================================================================\n",
      "flatten_2 (Flatten)          (None, 784)               0         \n",
      "_________________________________________________________________\n",
      "dense_4 (Dense)              (None, 256)               200960    \n",
      "_________________________________________________________________\n",
      "dense_5 (Dense)              (None, 10)                2570      \n",
      "=================================================================\n",
      "Total params: 203,530\n",
      "Trainable params: 203,530\n",
      "Non-trainable params: 0\n",
      "_________________________________________________________________\n"
     ]
    }
   ],
   "source": [
    "#build model\n",
    "\n",
    "class mn_Model(tf.keras.Model):\n",
    "  def __init__(self):\n",
    "    super(mn_Model, self).__init__()    \n",
    "    # init. your layers or inherit layer.   \n",
    "    self.flat = tf.keras.layers.Flatten()\n",
    "    self.dense1 = tf.keras.layers.Dense(units=256, activation=tf.nn.relu)\n",
    "    self.dense2 = tf.keras.layers.Dense(units=10, activation=tf.nn.softmax)\n",
    "  def call(self, inputs, training=False):\n",
    "    #define your forwarding network\n",
    "    net = self.flat(inputs)\n",
    "    net = self.dense1(net)\n",
    "    net = self.dense2(net)\n",
    "    return net\n",
    "  \n",
    "\n",
    "model = mn_Model()\n",
    "\n",
    "#simple print model\n",
    "temp_inputs = tf.keras.Input(shape=(28, 28, 1))\n",
    "model(temp_inputs)\n",
    "model.summary()"
   ]
  },
  {
   "cell_type": "code",
   "execution_count": 9,
   "id": "6a316d81",
   "metadata": {},
   "outputs": [],
   "source": [
    "# Loss function\n",
    "def loss_func(model, images, labels):\n",
    "    logits = model(images, training=True)\n",
    "    loss = tf.reduce_mean(tf.keras.losses.sparse_categorical_crossentropy(y_true=tf.argmax(labels, 1), y_pred=logits))\n",
    "    return loss\n",
    "\n",
    "# Gradient Function\n",
    "def grad(model, images, labels):\n",
    "    with tf.GradientTape() as tape:\n",
    "        loss = loss_func(model, images, labels)\n",
    "    return tape.gradient(loss, model.trainable_variables)\n",
    "\n",
    "# Evaluation Function\n",
    "def evaluate(models, images, labels):    \n",
    "    predicts = model(images, training=False)\n",
    "    correct_predict = tf.equal(tf.argmax(predicts, 1), tf.argmax(labels, 1))\n",
    "    accuracy = tf.reduce_mean(tf.cast(correct_predict, tf.float32))\n",
    "    return accuracy\n",
    "\n",
    "# learning decay\n",
    "lr_decay = tf.keras.optimizers.schedules.ExponentialDecay(learning_rate,decay_steps=x_train.shape[0] / batch_size * 5 * 5,decay_rate=0.5,staircase=True)\n",
    "\n",
    "# Optimizer\n",
    "optimizer = tf.keras.optimizers.Adam(learning_rate=lr_decay)"
   ]
  },
  {
   "cell_type": "code",
   "execution_count": 10,
   "id": "e623a0eb",
   "metadata": {},
   "outputs": [
    {
     "name": "stdout",
     "output_type": "stream",
     "text": [
      "WARNING:tensorflow:Layer mn__model_2 is casting an input tensor from dtype float64 to the layer's dtype of float32, which is new behavior in TensorFlow 2.  The layer has dtype float32 because its dtype defaults to floatx.\n",
      "\n",
      "If you intended to run this layer in float32, you can safely ignore this warning. If in doubt, this warning is likely only an issue if you are porting a TensorFlow 1.X model to TensorFlow 2.\n",
      "\n",
      "To change all layers to have dtype float64 by default, call `tf.keras.backend.set_floatx('float64')`. To change just this layer, pass dtype='float64' to the layer constructor. If you are the author of this layer, you can disable autocasting by passing autocast=False to the base Layer constructor.\n",
      "\n",
      "Epoch: 1 loss = 0.27460861 train accuracy =  0.9234 test accuracy =  0.9550\n",
      "Epoch: 2 loss = 0.11668385 train accuracy =  0.9672 test accuracy =  0.9684\n",
      "Epoch: 3 loss = 0.07709118 train accuracy =  0.9782 test accuracy =  0.9744\n",
      "Epoch: 4 loss = 0.05394432 train accuracy =  0.9853 test accuracy =  0.9748\n",
      "Epoch: 5 loss = 0.03972222 train accuracy =  0.9893 test accuracy =  0.9789\n",
      "Epoch: 6 loss = 0.03050468 train accuracy =  0.9923 test accuracy =  0.9785\n",
      "Epoch: 7 loss = 0.02349371 train accuracy =  0.9946 test accuracy =  0.9771\n",
      "Epoch: 8 loss = 0.01771048 train accuracy =  0.9964 test accuracy =  0.9789\n",
      "Epoch: 9 loss = 0.01342475 train accuracy =  0.9976 test accuracy =  0.9788\n",
      "Epoch: 10 loss = 0.01033321 train accuracy =  0.9984 test accuracy =  0.9794\n"
     ]
    }
   ],
   "source": [
    "for epoch in range(training_epochs):\n",
    "    avg_loss = 0.\n",
    "    avg_train_acc = 0.\n",
    "    avg_test_acc = 0.\n",
    "    train_step = 0\n",
    "    test_step = 0\n",
    "    \n",
    "    for images, labels in train_ds:\n",
    "        grads = grad(model, images, labels)                \n",
    "        optimizer.apply_gradients(zip(grads, model.variables))\n",
    "        loss = loss_func(model, images, labels)\n",
    "        acc = evaluate(model, images, labels)\n",
    "        avg_loss = avg_loss + loss\n",
    "        avg_train_acc = avg_train_acc + acc\n",
    "        train_step += 1\n",
    "    avg_loss = avg_loss / train_step\n",
    "    avg_train_acc = avg_train_acc / train_step\n",
    "    \n",
    "    for images, labels in test_ds:        \n",
    "        acc = evaluate(model, images, labels)        \n",
    "        avg_test_acc = avg_test_acc + acc\n",
    "        test_step += 1    \n",
    "    avg_test_acc = avg_test_acc / test_step    \n",
    "\n",
    "    print('Epoch:', '{}'.format(epoch + 1), 'loss =', '{:.8f}'.format(avg_loss), \n",
    "          'train accuracy = ', '{:.4f}'.format(avg_train_acc), \n",
    "          'test accuracy = ', '{:.4f}'.format(avg_test_acc))"
   ]
  },
  {
   "cell_type": "code",
   "execution_count": null,
   "id": "e31d6754",
   "metadata": {},
   "outputs": [],
   "source": []
  }
 ],
 "metadata": {
  "kernelspec": {
   "display_name": "Python 3",
   "language": "python",
   "name": "python3"
  },
  "language_info": {
   "codemirror_mode": {
    "name": "ipython",
    "version": 3
   },
   "file_extension": ".py",
   "mimetype": "text/x-python",
   "name": "python",
   "nbconvert_exporter": "python",
   "pygments_lexer": "ipython3",
   "version": "3.6.9"
  }
 },
 "nbformat": 4,
 "nbformat_minor": 5
}
